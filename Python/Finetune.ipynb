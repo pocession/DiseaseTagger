{
 "cells": [
  {
   "cell_type": "code",
   "execution_count": 35,
   "id": "a3f7df28-833b-49e0-af48-f9053167f90a",
   "metadata": {},
   "outputs": [],
   "source": [
    "# This script is used for finetuning BioBERT v1.1 for performing NER task with NCBI disease dataset\n",
    "# Load packages\n",
    "import os\n",
    "\n",
    "from datasets import load_dataset, load_from_disk\n",
    "from transformers import AutoTokenizer"
   ]
  },
  {
   "cell_type": "code",
   "execution_count": 29,
   "id": "5d61a830-2afc-48f9-a2a9-b525c15b67c5",
   "metadata": {},
   "outputs": [
    {
     "name": "stdout",
     "output_type": "stream",
     "text": [
      "['Identification', 'of', 'APC2', ',', 'a', 'homologue', 'of', 'the', 'adenomatous', 'polyposis', 'coli', 'tumour', 'suppressor', '.']\n",
      "[0, 0, 0, 0, 0, 0, 0, 0, 1, 2, 2, 2, 0, 0]\n"
     ]
    },
    {
     "data": {
      "application/vnd.jupyter.widget-view+json": {
       "model_id": "423cb3cae3bd4cb88e223faaadeb07dd",
       "version_major": 2,
       "version_minor": 0
      },
      "text/plain": [
       "Saving the dataset (0/1 shards):   0%|          | 0/5433 [00:00<?, ? examples/s]"
      ]
     },
     "metadata": {},
     "output_type": "display_data"
    },
    {
     "data": {
      "application/vnd.jupyter.widget-view+json": {
       "model_id": "9163c39e8822401a9f7f53d30896f1ba",
       "version_major": 2,
       "version_minor": 0
      },
      "text/plain": [
       "Saving the dataset (0/1 shards):   0%|          | 0/924 [00:00<?, ? examples/s]"
      ]
     },
     "metadata": {},
     "output_type": "display_data"
    },
    {
     "data": {
      "application/vnd.jupyter.widget-view+json": {
       "model_id": "c5fc95453a0b4042aba4d2121618db29",
       "version_major": 2,
       "version_minor": 0
      },
      "text/plain": [
       "Saving the dataset (0/1 shards):   0%|          | 0/941 [00:00<?, ? examples/s]"
      ]
     },
     "metadata": {},
     "output_type": "display_data"
    }
   ],
   "source": [
    "# Download the dataset\n",
    "# Check the dataset\n",
    "\n",
    "dataset = load_dataset(\"ncbi_disease\")\n",
    "print(dataset[\"train\"][0][\"tokens\"])\n",
    "print(dataset[\"train\"][0][\"ner_tags\"])\n",
    "\n",
    "# Note we have to use save_to_disk() to data and configure files\n",
    "wd = os.getcwd()\n",
    "dataset_dir = wd + \"/../datasets/ncbi_disease/\"\n",
    "dataset.save_to_disk(dataset_dir)"
   ]
  },
  {
   "cell_type": "code",
   "execution_count": 14,
   "id": "10cdfe77-a3e2-4a25-8153-6b1266f41348",
   "metadata": {},
   "outputs": [
    {
     "name": "stdout",
     "output_type": "stream",
     "text": [
      "Sequence(feature=ClassLabel(names=['O', 'B-Disease', 'I-Disease'], id=None), length=-1, id=None)\n",
      "['O', 'B-Disease', 'I-Disease']\n",
      "Label: 0, is: O\n",
      "Label: 1, is: B-Disease\n",
      "Label: 2, is: I-Disease\n"
     ]
    }
   ],
   "source": [
    "# Note it seems that some attributes are only kept in the data directly downloaded from hugging face\n",
    "# If you save data and read from your local path, those attributes will be lost\n",
    "# 0: O, 1: B-Disease, 2: I-Disease \n",
    "\n",
    "ner_feature = dataset[\"train\"].features[\"ner_tags\"]\n",
    "print(ner_feature)\n",
    "label_names = ner_feature.feature.names\n",
    "print(label_names)\n",
    "\n",
    "for i in range(3):\n",
    "    print(\"Label: \"+ str(i) + \", is:\", label_names[i])"
   ]
  },
  {
   "cell_type": "code",
   "execution_count": 15,
   "id": "2c8b3635-d5c6-4882-98fe-d81c98499a51",
   "metadata": {},
   "outputs": [
    {
     "name": "stdout",
     "output_type": "stream",
     "text": [
      "Identification of APC2 , a homologue of the adenomatous polyposis coli      tumour    suppressor . \n",
      "O              O  O    O O O         O  O   B-Disease   I-Disease I-Disease I-Disease O          O \n"
     ]
    }
   ],
   "source": [
    "# Tokenize the data\n",
    "# Use one sentence as an example\n",
    "# Visualize the tokenization process\n",
    "\n",
    "words = dataset[\"train\"][0][\"tokens\"]\n",
    "labels = dataset[\"train\"][0][\"ner_tags\"]\n",
    "line1 = \"\"\n",
    "line2 = \"\"\n",
    "for word, label in zip(words, labels):\n",
    "    full_label = label_names[label]\n",
    "    max_length = max(len(word), len(full_label))\n",
    "    line1 += word + \" \" * (max_length - len(word) + 1)\n",
    "    line2 += full_label + \" \" * (max_length - len(full_label) + 1)\n",
    "\n",
    "print(line1)\n",
    "print(line2)"
   ]
  },
  {
   "cell_type": "code",
   "execution_count": 16,
   "id": "d7282bc3-f088-44b3-aa49-c0913cdaec6a",
   "metadata": {},
   "outputs": [],
   "source": [
    "# leading the tokenizer\n",
    "wd = os.getcwd()\n",
    "model_checkpoint = wd + \"/../models/biobert-v1.1\"\n",
    "tokenizer = AutoTokenizer.from_pretrained(model_checkpoint)"
   ]
  },
  {
   "cell_type": "code",
   "execution_count": 17,
   "id": "6d0717ea-c65f-4b19-96bf-7adc284f7216",
   "metadata": {},
   "outputs": [
    {
     "name": "stdout",
     "output_type": "stream",
     "text": [
      "['[CLS]', 'I', '##dent', '##ification', 'of', 'AP', '##C', '##2', ',', 'a', 'ho', '##mo', '##logue', 'of', 'the', 'ad', '##eno', '##mat', '##ous', 'p', '##oly', '##po', '##sis', 'co', '##li', 't', '##umour', 'suppress', '##or', '.', '[SEP]']\n"
     ]
    }
   ],
   "source": [
    "inputs = tokenizer(dataset[\"train\"][0][\"tokens\"], is_split_into_words=True)\n",
    "print(inputs.tokens())"
   ]
  },
  {
   "cell_type": "code",
   "execution_count": 18,
   "id": "c7d90e66-6ffd-4eca-9996-403e7cae3e81",
   "metadata": {},
   "outputs": [
    {
     "name": "stdout",
     "output_type": "stream",
     "text": [
      "[None, 0, 0, 0, 1, 2, 2, 2, 3, 4, 5, 5, 5, 6, 7, 8, 8, 8, 8, 9, 9, 9, 9, 10, 10, 11, 11, 12, 12, 13, None]\n"
     ]
    }
   ],
   "source": [
    "# One word may generate more than one tokens\n",
    "# This step is to assign the tokenized word to the original word \n",
    "# Example: [0, 0, 0]  means these three tokens are from the original first word (the first word in dataset[\"train\"][0][\"tokens\"]) \n",
    "print(inputs.word_ids()) "
   ]
  },
  {
   "cell_type": "code",
   "execution_count": 19,
   "id": "cf340e76-c2f9-48ee-b6ca-c6a08ceb47f5",
   "metadata": {},
   "outputs": [],
   "source": [
    "# Here we assign the label to each token\n",
    "# If both the current and previous token are derived from the same word\n",
    "# Then both the current and previous token has same labels\n",
    "\n",
    "def align_labels_with_tokens(labels, word_ids):\n",
    "    new_labels = []\n",
    "    current_word = None\n",
    "    for word_id in word_ids:\n",
    "        if word_id != current_word:\n",
    "            # Start of a new word!\n",
    "            current_word = word_id\n",
    "            label = -100 if word_id is None else labels[word_id]\n",
    "            new_labels.append(label)\n",
    "        elif word_id is None:\n",
    "            # Special token\n",
    "            new_labels.append(-100)\n",
    "        else:\n",
    "            # Same word as previous token\n",
    "            label = labels[word_id]\n",
    "            # If the label is B-XXX we change it to I-XXX\n",
    "            if label % 2 == 1:\n",
    "                label += 1\n",
    "            new_labels.append(label)\n",
    "\n",
    "    return new_labels"
   ]
  },
  {
   "cell_type": "code",
   "execution_count": 20,
   "id": "1d51532d-57a9-47c8-9c74-efc20156873d",
   "metadata": {},
   "outputs": [
    {
     "name": "stdout",
     "output_type": "stream",
     "text": [
      "[0, 0, 0, 0, 0, 0, 0, 0, 1, 2, 2, 2, 0, 0]\n",
      "[None, 0, 0, 0, 1, 2, 2, 2, 3, 4, 5, 5, 5, 6, 7, 8, 8, 8, 8, 9, 9, 9, 9, 10, 10, 11, 11, 12, 12, 13, None]\n",
      "[-100, 0, 0, 0, 0, 0, 0, 0, 0, 0, 0, 0, 0, 0, 0, 1, 2, 2, 2, 2, 2, 2, 2, 2, 2, 2, 2, 0, 0, 0, -100]\n"
     ]
    }
   ],
   "source": [
    "words = dataset[\"train\"][0][\"tokens\"]\n",
    "labels = dataset[\"train\"][0][\"ner_tags\"]\n",
    "inputs = tokenizer(words, is_split_into_words=True)\n",
    "\n",
    "labels =dataset[\"train\"][0][\"ner_tags\"]\n",
    "\n",
    "# Assign the tokens to their original id (the original position index of this word in sentence)\n",
    "word_ids = inputs.word_ids()\n",
    "print(labels)\n",
    "print(word_ids)\n",
    "print(align_labels_with_tokens(labels, word_ids))"
   ]
  },
  {
   "cell_type": "code",
   "execution_count": 21,
   "id": "fb86183c-81eb-49c5-b82f-002feb98f253",
   "metadata": {},
   "outputs": [],
   "source": [
    "def tokenize_and_align_labels(examples):\n",
    "    tokenized_inputs = tokenizer(\n",
    "        examples[\"tokens\"], truncation=True, is_split_into_words=True\n",
    "    )\n",
    "    all_labels = examples[\"ner_tags\"]\n",
    "    new_labels = []\n",
    "    for i, labels in enumerate(all_labels):\n",
    "        word_ids = tokenized_inputs.word_ids(i)\n",
    "        new_labels.append(align_labels_with_tokens(labels, word_ids))\n",
    "\n",
    "    tokenized_inputs[\"labels\"] = new_labels\n",
    "    return tokenized_inputs"
   ]
  },
  {
   "cell_type": "code",
   "execution_count": 23,
   "id": "f2bc2b76-e601-4305-b1ed-554e54a7a6fe",
   "metadata": {},
   "outputs": [
    {
     "data": {
      "text/plain": [
       "DatasetDict({\n",
       "    train: Dataset({\n",
       "        features: ['input_ids', 'token_type_ids', 'attention_mask', 'labels'],\n",
       "        num_rows: 5433\n",
       "    })\n",
       "    validation: Dataset({\n",
       "        features: ['input_ids', 'token_type_ids', 'attention_mask', 'labels'],\n",
       "        num_rows: 924\n",
       "    })\n",
       "    test: Dataset({\n",
       "        features: ['input_ids', 'token_type_ids', 'attention_mask', 'labels'],\n",
       "        num_rows: 941\n",
       "    })\n",
       "})"
      ]
     },
     "execution_count": 23,
     "metadata": {},
     "output_type": "execute_result"
    }
   ],
   "source": [
    "\n",
    "tokenized_datasets = dataset.map(\n",
    "    tokenize_and_align_labels,\n",
    "    batched=True,\n",
    "    remove_columns=dataset[\"train\"].column_names,\n",
    ")\n",
    "tokenized_datasets"
   ]
  },
  {
   "cell_type": "code",
   "execution_count": 36,
   "id": "c4c5e899-7149-4924-af6b-4e1efe03edd0",
   "metadata": {},
   "outputs": [
    {
     "data": {
      "application/vnd.jupyter.widget-view+json": {
       "model_id": "3c6a57d0a52b4d09a9042ada3c1c00a7",
       "version_major": 2,
       "version_minor": 0
      },
      "text/plain": [
       "Saving the dataset (0/1 shards):   0%|          | 0/5433 [00:00<?, ? examples/s]"
      ]
     },
     "metadata": {},
     "output_type": "display_data"
    },
    {
     "data": {
      "application/vnd.jupyter.widget-view+json": {
       "model_id": "f0ce031efbc34e46829f28cf0746692b",
       "version_major": 2,
       "version_minor": 0
      },
      "text/plain": [
       "Saving the dataset (0/1 shards):   0%|          | 0/924 [00:00<?, ? examples/s]"
      ]
     },
     "metadata": {},
     "output_type": "display_data"
    },
    {
     "data": {
      "application/vnd.jupyter.widget-view+json": {
       "model_id": "1da1342ac14f41b0b8c58e5d7dff6a63",
       "version_major": 2,
       "version_minor": 0
      },
      "text/plain": [
       "Saving the dataset (0/1 shards):   0%|          | 0/941 [00:00<?, ? examples/s]"
      ]
     },
     "metadata": {},
     "output_type": "display_data"
    },
    {
     "data": {
      "text/plain": [
       "DatasetDict({\n",
       "    train: Dataset({\n",
       "        features: ['input_ids', 'token_type_ids', 'attention_mask', 'labels'],\n",
       "        num_rows: 5433\n",
       "    })\n",
       "    validation: Dataset({\n",
       "        features: ['input_ids', 'token_type_ids', 'attention_mask', 'labels'],\n",
       "        num_rows: 924\n",
       "    })\n",
       "    test: Dataset({\n",
       "        features: ['input_ids', 'token_type_ids', 'attention_mask', 'labels'],\n",
       "        num_rows: 941\n",
       "    })\n",
       "})"
      ]
     },
     "execution_count": 36,
     "metadata": {},
     "output_type": "execute_result"
    }
   ],
   "source": [
    "wd = os.getcwd()\n",
    "tokenized_dataset_dir = wd + \"/../datasets/ncbi_disease_tokenized/\"\n",
    "tokenized_datasets.save_to_disk(tokenized_dataset_dir)\n",
    "reloaded_tokenized_datasets = load_from_disk(tokenized_dataset_dir)\n",
    "reloaded_tokenized_datasets"
   ]
  },
  {
   "cell_type": "code",
   "execution_count": 31,
   "id": "7a99b0fc-1cb4-4e72-ae8d-c30df7585193",
   "metadata": {},
   "outputs": [],
   "source": [
    "# Check here\n",
    "# https://github.com/UMESH519/finetune-BioBERT-NCBI-Disease/blob/main/BERT_BioBERT_Finetuned_ncbi_dataset.ipynb"
   ]
  },
  {
   "cell_type": "code",
   "execution_count": null,
   "id": "9fe3de74-71df-47e6-8b5a-78f23f2e0941",
   "metadata": {},
   "outputs": [],
   "source": []
  }
 ],
 "metadata": {
  "kernelspec": {
   "display_name": "Python 3 (ipykernel)",
   "language": "python",
   "name": "python3"
  },
  "language_info": {
   "codemirror_mode": {
    "name": "ipython",
    "version": 3
   },
   "file_extension": ".py",
   "mimetype": "text/x-python",
   "name": "python",
   "nbconvert_exporter": "python",
   "pygments_lexer": "ipython3",
   "version": "3.11.8"
  }
 },
 "nbformat": 4,
 "nbformat_minor": 5
}
