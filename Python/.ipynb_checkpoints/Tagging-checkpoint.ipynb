{
 "cells": [
  {
   "cell_type": "code",
   "execution_count": 8,
   "id": "6cdf7d4c-9013-4f32-ac3e-19655a8a9501",
   "metadata": {},
   "outputs": [],
   "source": [
    "import gradio as gr\n",
    "from transformers import pipeline\n",
    "import os\n",
    "\n",
    "wd = os.getcwd()\n",
    "model_checkpoint = wd + \"/../models/biobert-v1.1-20240414\"\n",
    "token_classifier = pipeline(\"token-classification\", model=model_checkpoint, aggregation_strategy=\"simple\")\n",
    "\n",
    "def inference(text):\n",
    "    output = token_classifier(text)\n",
    "    for i in output:\n",
    "      i['entity'] = i['entity_group']\n",
    "      del i['entity_group']\n",
    "    return {\"text\": text, \"entities\": output} \n",
    "\n",
    "\n",
    "examples = [\n",
    "    [\"Anyone can develop GBS, but people older than 50 are at greatest risk. About two-thirds of people with GBS were sick with diarrhea or respiratory illness days or weeks before developing symptoms\"],\n",
    "    ['COVID-19 is caused by a coronavirus called SARS-CoV-2. Older adults and people who have severe underlying medical conditions like heart or lung disease or diabetes seem to be at higher risk for developing more serious complications from COVID-19 illness.'],\n",
    "    [\"Headache, flushing, and upset stomach are common Viagra side effects. These effects are usually mild and often resolve on their own.\"],\n",
    "    ['Sildenafil is also used in both men and women to treat the symptoms of pulmonary arterial hypertension. This is a type of high blood pressure that occurs between the heart and the lungs. ']\n",
    "]\n"
   ]
  },
  {
   "cell_type": "code",
   "execution_count": 34,
   "id": "f6b242ff-0d91-4483-9261-e5ba574ee033",
   "metadata": {},
   "outputs": [
    {
     "data": {
      "text/plain": [
       "[[{'entity_group': 'Disease',\n",
       "   'score': 0.9986774,\n",
       "   'word': 'GBS',\n",
       "   'start': 19,\n",
       "   'end': 22},\n",
       "  {'entity_group': 'Disease',\n",
       "   'score': 0.99926585,\n",
       "   'word': 'GBS',\n",
       "   'start': 103,\n",
       "   'end': 106},\n",
       "  {'entity_group': 'Disease',\n",
       "   'score': 0.96689093,\n",
       "   'word': 'diarrhea or',\n",
       "   'start': 122,\n",
       "   'end': 133},\n",
       "  {'entity_group': 'Disease',\n",
       "   'score': 0.88061476,\n",
       "   'word': 'respiratory illness',\n",
       "   'start': 134,\n",
       "   'end': 153}]]"
      ]
     },
     "execution_count": 34,
     "metadata": {},
     "output_type": "execute_result"
    }
   ],
   "source": [
    "text = examples[0]\n",
    "output = token_classifier(text)\n",
    "output"
   ]
  },
  {
   "cell_type": "code",
   "execution_count": 35,
   "id": "b3cdd56b-2757-4e85-9079-945d9624ddc9",
   "metadata": {},
   "outputs": [
    {
     "name": "stdout",
     "output_type": "stream",
     "text": [
      "GBS\n",
      "GBS\n",
      "diarrhea or\n",
      "respiratory illness\n"
     ]
    }
   ],
   "source": [
    "# Iterate over each sublist in the nested list\n",
    "for sublist in output:\n",
    "    # Iterate over each dictionary in the sublist\n",
    "    for entity in sublist:\n",
    "        # Print the value associated with the key 'word'\n",
    "        print(entity['word'])"
   ]
  },
  {
   "cell_type": "code",
   "execution_count": null,
   "id": "fb713bfd-4565-4db0-88bd-5902be6c9322",
   "metadata": {},
   "outputs": [],
   "source": []
  }
 ],
 "metadata": {
  "kernelspec": {
   "display_name": "Python 3 (ipykernel)",
   "language": "python",
   "name": "python3"
  },
  "language_info": {
   "codemirror_mode": {
    "name": "ipython",
    "version": 3
   },
   "file_extension": ".py",
   "mimetype": "text/x-python",
   "name": "python",
   "nbconvert_exporter": "python",
   "pygments_lexer": "ipython3",
   "version": "3.11.8"
  }
 },
 "nbformat": 4,
 "nbformat_minor": 5
}
