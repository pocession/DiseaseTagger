{
 "cells": [
  {
   "cell_type": "code",
   "execution_count": 19,
   "metadata": {},
   "outputs": [],
   "source": [
    "import os\n",
    "import csv"
   ]
  },
  {
   "cell_type": "code",
   "execution_count": 20,
   "metadata": {},
   "outputs": [],
   "source": [
    "class SentenceFetch(object):\n",
    "  \n",
    "  def __init__(self, data):\n",
    "    self.data = data\n",
    "    self.sentences = []\n",
    "    self.tags = []\n",
    "    self.sent = []\n",
    "    self.tag = []\n",
    "    \n",
    "    # make tsv file readable\n",
    "    with open(self.data) as tsv_f:\n",
    "      reader = csv.reader(tsv_f, delimiter='\\t')\n",
    "      for row in reader:\n",
    "        if len(row) == 0:\n",
    "          if len(self.sent) != len(self.tag):\n",
    "            break\n",
    "          self.sentences.append(self.sent)\n",
    "          self.tags.append(self.tag)\n",
    "          self.sent = []\n",
    "          self.tag = []\n",
    "        else:\n",
    "          self.sent.append(row[0])\n",
    "          self.tag.append(row[1])   \n",
    "\n",
    "  def getSentences(self):\n",
    "    return self.sentences\n",
    "  \n",
    "  def getTags(self):\n",
    "    return self.tags"
   ]
  },
  {
   "cell_type": "code",
   "execution_count": 21,
   "metadata": {},
   "outputs": [],
   "source": [
    "wd = os.getcwd()\n",
    "\n",
    "corpora = wd + '/../data/BioNLP'\n",
    "sentences = []\n",
    "tags = []\n",
    "for subdir, dirs, files in os.walk(corpora):\n",
    "    for file in files:\n",
    "        if file == 'train.tsv':\n",
    "            path = os.path.join(subdir, file)\n",
    "            sent = SentenceFetch(path).getSentences()\n",
    "            tag = SentenceFetch(path).getTags()\n",
    "            sentences.extend(sent)\n",
    "            tags.extend(tag)\n",
    "            \n",
    "sentences = sentences[0:20000]\n",
    "tags = tags[0:20000]"
   ]
  },
  {
   "cell_type": "code",
   "execution_count": 24,
   "metadata": {},
   "outputs": [
    {
     "name": "stdout",
     "output_type": "stream",
     "text": [
      "Sentence Preview:\n",
      " ['Novel', 'Algorithms', 'Reveal', 'Streptococcal', 'Transcriptomes', 'and', 'Clues', 'about', 'Undefined', 'Genes']\n"
     ]
    }
   ],
   "source": [
    "print('Sentence Preview:\\n',sentences[0])"
   ]
  }
 ],
 "metadata": {
  "kernelspec": {
   "display_name": "Python 3 (ipykernel)",
   "language": "python",
   "name": "python3"
  },
  "language_info": {
   "codemirror_mode": {
    "name": "ipython",
    "version": 3
   },
   "file_extension": ".py",
   "mimetype": "text/x-python",
   "name": "python",
   "nbconvert_exporter": "python",
   "pygments_lexer": "ipython3",
   "version": "3.11.3"
  }
 },
 "nbformat": 4,
 "nbformat_minor": 2
}
